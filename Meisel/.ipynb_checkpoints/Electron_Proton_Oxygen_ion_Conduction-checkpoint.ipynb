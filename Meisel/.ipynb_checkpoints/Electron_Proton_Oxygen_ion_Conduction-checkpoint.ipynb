{
 "cells": [
  {
   "cell_type": "markdown",
   "metadata": {},
   "source": [
    "# In this notebook I will hash out the mixed conduction from the Negatrode to the positrode"
   ]
  },
  {
   "cell_type": "markdown",
   "metadata": {},
   "source": [
    "## In my model there will be 4 nodes:\n",
    "1. The surface of the negatrode\n",
    "2. The negatrode electrolyte interface\n",
    "3. The electrolyte positrode interface\n",
    "4. The surface of the positrode\n",
    "\n",
    "I will only make one function for the diffusion that will be pretty much the same one from hw 5. This function will calculate the ionic conduction between 2 nodes. I will just have to call it 3 times. ONce in the Negatrode, once in the electrolyte, and once in the positrode.\n",
    "\n",
    "For simplicity's sake I am going to model the potential difference across all nodes as $\\Delta\\phi_{pos}-\\Delta\\phi_{neg}$\n",
    "\n",
    "Also in my charge transfer model equations, I have protons labeled as $H^+$ and oxygen ions as $O^{2-}$. However in the crystal lattice, the oxygen ions motion can better be described by an oxygen vacancy with a charge of 2+ and the proton can better be described by an $OH^+$.\n",
    "\n",
    "Again I will be using your parameters for this code. I plan on looking up all the parameters at once for all parts of this project."
   ]
  },
  {
   "cell_type": "code",
   "execution_count": 8,
   "metadata": {},
   "outputs": [
    {
     "name": "stdout",
     "output_type": "stream",
     "text": [
      "6.851610296082216e-14 2.891240767144238e-11\n",
      "El,cond,Ni,550C= 6274313.0 S/m\n"
     ]
    }
   ],
   "source": [
    "#I know I literall just said I would search for the parameters later but I figured I could at least find the\n",
    "#Conductivity of Nickle (Way harder than I thought), however I stumbled upon a paper that gave the diffusivities\n",
    "#of the ions in BZY20 as a function of temperature.  BZY20 is close enough to BCZYYb so I will use these values until\n",
    "#I can replace them for values from BCZYYb\n",
    "import math\n",
    "#Diffusivities in BZY20\n",
    "R = 8.314 #J/mol*K\n",
    "T = 550+273 #(k) why do the mental math before plugging numbers into a computer\n",
    "D_VO = 1.90*10**-9 * math.exp(-70000/(R*T))\n",
    "D_VOH = 1.55*10**-8 * math.exp(-43000/(R*T))\n",
    "\n",
    "print(D_VO, D_VOH)\n",
    "\n",
    "#Conductivity of Ni\n",
    "rho_o = 11*10**-8 #ohm*m\n",
    "alpha = 0.006*10**-8 #ohm*m\n",
    "rho_ni_550C = rho_o+alpha*T\n",
    "sigma_Ni_550 = 1/rho_ni_550C\n",
    "print(\"El,cond,Ni,550C=\",round(sigma_Ni_550,1),\"S/m\")\n",
    "#found at: http://www.kstreetstudio.com/science/experiments/files/Resistivity.pdf\n"
   ]
  },
  {
   "cell_type": "markdown",
   "metadata": {},
   "source": [
    "## Parameters:\n",
    "\n",
    "#### Diffusivity through BCZYYb at 550C (will be used for the negatrode and electrolyte): [Found values]\n",
    "- $D_{\\rm V_{\\rm O}^{\\bullet\\bullet}} = 6.58\\times 10^{-14}\\, \\frac{\\rm m^2}{\\rm s}$\n",
    "- $D_{\\rm O^\\times} = 0.0\\,\\frac{\\rm m^2}{\\rm s}$\n",
    "- $D_{\\rm OH^\\bullet} = 2.89\\times 10^{-11}\\,\\frac{\\rm m^2}{\\rm s}$\n",
    "#### Diffusivity through BCFZY at 550C (positrode):\n",
    "- $D_{\\rm V_{\\rm O}^{\\bullet\\bullet}} = 1.28\\times 10^{-12}\\,\\frac{\\rm m^2}{\\rm s}$\n",
    "- $D_{\\rm O^\\times} = 0.0\\,\\frac{\\rm m^2}{\\rm s}$\n",
    "- $D_{\\rm OH^\\bullet} = 7.46\\times 10^{-11}\\,\\frac{\\rm m^2}{\\rm s}$\n",
    "#### Electrical conductivities:\n",
    "- $\\sigma_\\mathrm{Ni} = 6.27\\times 10^{6}\\,\\mathrm{\\frac{S}{m}}$ (found)\n",
    "- $\\sigma_\\mathrm{BCZYYb4411} = 0.001\\, \\mathrm{\\frac{S}{m}}$ (yours)\n",
    "- $\\sigma_\\mathrm{BCFZY} = 1.5\\,\\mathrm{\\frac{S}{m}}$ (Song, Y. et al. Self-Assembled Triple-Conducting Nanocomposite as a Superior Protonic Ceramic Fuel Cell Cathode. Joule 3, 2842–2853 (2019).)\n",
    "\n",
    "## States of each node (made up):\n",
    "### BCZYYb at the TPB in the negatrode:\n",
    "- $X_{\\rm V_{\\rm O}^{\\bullet\\bullet}} = 0.330$\n",
    "- $X_{\\rm O^\\times} = 0.614$\n",
    "- $X_{\\rm OH^\\bullet} = 0.056$\n",
    "- $\\phi = \\phi_{neg}$ this is the reference electrode so it is 0\n",
    "### Negatrode/electrolyte interface:\n",
    "- $X_{\\rm V_{\\rm O}^{\\bullet\\bullet}} = 0.336$\n",
    "- $X_{\\rm O^\\times} = 0.627$\n",
    "- $X_{\\rm OH^\\bullet} = 0.037$\n",
    "- $\\phi = \\phi_{dl,neg}$\n",
    "### Electrolyte/positrode interface:\n",
    "- $X_{\\rm V_{\\rm O}^{\\bullet\\bullet}} = 0.018$\n",
    "- $X_{\\rm O^\\times} = 0.938$\n",
    "- $X_{\\rm OH^\\bullet} = 0.044$\n",
    "- $\\phi = \\phi_{dl,pos}$\n",
    "### Positrode surface:\n",
    "- $X_{\\rm V_{\\rm O}^{\\bullet\\bullet}} = 0.018$\n",
    "- $X_{\\rm O^\\times} = 0.938$\n",
    "- $X_{\\rm OH^\\bullet} = 0.044$\n",
    "- $\\phi = \\phi_\\rm{pos}$\n"
   ]
  },
  {
   "cell_type": "code",
   "execution_count": null,
   "metadata": {},
   "outputs": [],
   "source": []
  },
  {
   "cell_type": "code",
   "execution_count": null,
   "metadata": {},
   "outputs": [],
   "source": [
    "def protonic_transport(state1, state2, geom, ceramic_pars):\n",
    "    #initializing flux and current arrays:\n",
    "    N_k = np.zeros_like(s1['x_k'])\n",
    "    current = np.zeros_like(s1['x_k'])\n",
    "    \n",
    "#Calculating N_k:\n",
    "    #Solving for unknowns\n",
    "    #Solving for C_k:\n",
    "    c_k_1 = s1['x_k']*ceramic_pars['lat_sites']\n",
    "    c_k_2 = s2['x_k']*ceramic_pars['lat_sites']\n",
    "    c_k_int = (c_k_2+c_k_1)/2 #(mol/m^3) for each species\n",
    "    \n",
    "    #Solving for grad_x_k:\n",
    "    grad_x_k = (s2['x_k']-s1['x_k'])/geom['dY'] #(1/m)\n",
    "    x_k_int = (s2['x_k']+s1['x_k'])/2 #X_k is also needed, no units\n",
    "    \n",
    "    #solving for grad_phi:\n",
    "    grad_phi = (s2['phi']-s1['phi'])/geom['dY'] # (V/m)\n",
    "    \n",
    "    #Grouping parameters together:\n",
    "    grad_Ck = (c_k_int/x_k_int)*grad_x_k #(mol/m^4)\n",
    "    D_k_mig = ceramic_pars['D_k']*c_k_int*((ceramic_pars['z_k']*F)/(R*T)) #(m^2/s)\n",
    "    \n",
    "    #Finally solving for the molar flux\n",
    "    N_k = -ceramic_pars['D_k']*grad_Ck-D_k_mig*grad_phi #(mol/m^2*s)\n",
    "    \n",
    "#Calculating Current\n",
    "    #Calculating ionic current:\n",
    "    i_ion = F*np.sum(ceramic_pars['z_k']*N_k)\n",
    "\n",
    "    #calculating the electronic current:\n",
    "    i_e = (-(s2['phi']-s1['phi'])*ceramic_pars['e_cond'])/geom['dY']\n",
    "    \n",
    "    #putting the two current values together:\n",
    "    current = i_ion+i_e\n",
    "    \n",
    "    return N_k, current"
   ]
  }
 ],
 "metadata": {
  "kernelspec": {
   "display_name": "Python 3",
   "language": "python",
   "name": "python3"
  },
  "language_info": {
   "codemirror_mode": {
    "name": "ipython",
    "version": 3
   },
   "file_extension": ".py",
   "mimetype": "text/x-python",
   "name": "python",
   "nbconvert_exporter": "python",
   "pygments_lexer": "ipython3",
   "version": "3.7.3"
  }
 },
 "nbformat": 4,
 "nbformat_minor": 2
}
