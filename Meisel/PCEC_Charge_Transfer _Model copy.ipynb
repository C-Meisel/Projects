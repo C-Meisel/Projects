{
 "cells": [
  {
   "cell_type": "markdown",
   "metadata": {},
   "source": [
    "# Proton Conducting Ceramic Electrolysis Cell (PCEC) Model Development to Study the effects of Electrolyte thickness on Ohmic Resistance and Faradaic efficiency.\n",
    "This model consists of 3 layers of a PCEC:\n",
    " - A porous cermet negative electrode (Negatrode) of Ni and BCZYYb4411\n",
    " - A solid electrolyte consisting of BCZYYB4411\n",
    " - A porous BCFZY positive electrode (positrode)\n",
    " \n",
    "The solid portion of the anode is 60% NiO and 40% BCZYYb by mass. The mol fractions are: 14% BCZYYb and 86% Ni (the mol frac does not change after the Ni reduction\n",
    "\n",
    "The electrolyte will vary from 5-25 microns in thickness\n",
    "\n",
    "The electrolysis reaction that I will be modeling is: $H_\\mathrm{2 (Neg,Gas)} + \\frac{1}{2}O_\\mathrm{2 (Pos,Gas)} \\Longleftrightarrow H_2O_\\mathrm{(Pos,Gas)}$\n",
    "\n",
    "This simulation will run at a constant temperature of 550$^\\circ$C with a constant flow of reactants and products of 100 SCCM each. For now I will assume that the gasses flow in at 550$^\\circ$C\n",
    " - Negatrode Side: 5% $H_2$, 95%$N_2$\n",
    " - Positive Side: 10% Steam, 19% $O_2$, and 71S% $N_2$.\n",
    "A bias of -2V will applied to the cell to provide the driving force for the chemical reactions happening in reverse (aginst thermodynamics)\n",
    "\n",
    "# For now, I will just derive and code in my charge transfer equations:"
   ]
  },
  {
   "cell_type": "code",
   "execution_count": null,
   "metadata": {},
   "outputs": [],
   "source": []
  }
 ],
 "metadata": {
  "kernelspec": {
   "display_name": "Python 3",
   "language": "python",
   "name": "python3"
  },
  "language_info": {
   "codemirror_mode": {
    "name": "ipython",
    "version": 3
   },
   "file_extension": ".py",
   "mimetype": "text/x-python",
   "name": "python",
   "nbconvert_exporter": "python",
   "pygments_lexer": "ipython3",
   "version": "3.7.3"
  }
 },
 "nbformat": 4,
 "nbformat_minor": 2
}
